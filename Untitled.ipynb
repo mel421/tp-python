{
 "cells": [
  {
   "cell_type": "code",
   "execution_count": 22,
   "metadata": {
    "collapsed": false
   },
   "outputs": [
    {
     "name": "stdout",
     "output_type": "stream",
     "text": [
      "1 1 0 0 0 0 0 0 0 0 \n",
      "1 0 0 0 0 0 0 0 0 1 \n",
      "0 0 0 0 0 0 0 0 0 0 \n",
      "0 0 0 1 0 0 1 0 0 0 \n",
      "0 0 0 0 0 0 0 0 0 0 \n",
      "0 1 0 0 0 0 1 0 0 0 \n",
      "1 0 0 0 0 0 0 1 0 0 \n",
      "0 0 0 0 0 1 1 0 1 0 \n",
      "0 0 1 1 1 0 0 1 0 0 \n",
      "0 1 0 0 0 0 0 0 0 0 \n",
      "0\n"
     ]
    }
   ],
   "source": [
    "from random import randrange\n",
    "\n",
    "mines = []\n",
    "chiffres = []\n",
    "cases = []\n",
    "drapeau = []\n",
    "n = 10\n",
    "d = 15\n",
    "compteurMine = 0\n",
    "\n",
    "def afficher(L):\n",
    "    for i in L:\n",
    "        for y in i:\n",
    "            print(y, end = \" \")\n",
    "        print()\n",
    "        \n",
    "def placerChiffres(L, i, y):\n",
    "    if(i == y == 0):\n",
    "        L[i+1][y] +=1\n",
    "        L[i+1][y+1] +=1\n",
    "        L[i][y+1] +=1\n",
    "    elif(i == 0 and y > 0 and y < len(L[i])):\n",
    "        L[i+1][y] +=1\n",
    "        L[i+1][y+1] +=1\n",
    "        L[i][y+1] +=1\n",
    "        L[i+1][y-1] +=1\n",
    "        L[i][y-1] +=1\n",
    "        \n",
    "\n",
    "def placerMines(L, n, c):\n",
    "    for i in range(n):\n",
    "        L.append([])\n",
    "        for y in range(n):\n",
    "            k = randrange(0, 100)\n",
    "            if(k >= d):\n",
    "                L[i].append(0)\n",
    "            else:\n",
    "                L[i].append(1)\n",
    "                c += 1\n",
    "    return L\n",
    "            \n",
    "afficher(placerMines(mines, n, compteurMine))"
   ]
  },
  {
   "cell_type": "code",
   "execution_count": null,
   "metadata": {
    "collapsed": true
   },
   "outputs": [],
   "source": []
  }
 ],
 "metadata": {
  "kernelspec": {
   "display_name": "Python 3",
   "language": "python",
   "name": "python3"
  },
  "language_info": {
   "codemirror_mode": {
    "name": "ipython",
    "version": 3
   },
   "file_extension": ".py",
   "mimetype": "text/x-python",
   "name": "python",
   "nbconvert_exporter": "python",
   "pygments_lexer": "ipython3",
   "version": "3.5.3"
  }
 },
 "nbformat": 4,
 "nbformat_minor": 2
}
