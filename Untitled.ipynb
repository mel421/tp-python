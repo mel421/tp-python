{
 "cells": [
  {
   "cell_type": "code",
   "execution_count": 96,
   "metadata": {
    "collapsed": false
   },
   "outputs": [],
   "source": [
    "from tkinter import *\n",
    "from random import shuffle\n",
    "\n",
    "CANVAS_SIDE=400\n",
    "NB_SQUARES=4\n",
    "R=CANVAS_SIDE//NB_SQUARES\n",
    "CANVAS = []\n",
    "master=Tk()\n",
    "board=[[NB_SQUARES*lin+1+col for col in range(NB_SQUARES)] for lin in range(NB_SQUARES)]\n",
    "cnv=Canvas(master, width=CANVAS_SIDE, height=CANVAS_SIDE, bg='ivory')\n",
    "cnv.pack()\n",
    "\n",
    "def fill_board(cnv, board):\n",
    "    for i in range(NB_SQUARES):\n",
    "        for j in range(NB_SQUARES):\n",
    "            v=board[i][j]\n",
    "            if v!=16:\n",
    "                CANVAS.append(cnv.create_rectangle(j*R, i*R, (1+j)*R, (1+i)*R, fill=\"lavender\"))\n",
    "                CANVAS.append(cnv.create_text(j*R+R//2, i*R+R//2, text=v,  font=('courier', CANVAS_SIDE//10, 'bold')))\n",
    "\n",
    "def melanger():\n",
    "    M = []\n",
    "    L = []\n",
    "    c = 0\n",
    "    for i in range(len(board)):\n",
    "        for y in range(len(board[i])):\n",
    "            M.append(board[i][y])\n",
    "    shuffle(M)\n",
    "    for i in range(len(board)):\n",
    "        L.append([])\n",
    "        for y in range(len(board[i])):\n",
    "            L[i].append(M[c])\n",
    "            cnv.delete(CANVAS[c])\n",
    "            c += 1\n",
    "    fill_board(cnv, L)\n",
    "\n",
    "def draw():\n",
    "    fill_board(cnv, board)\n",
    "    \n",
    "draw()\n",
    "btn = Button(master, text=\"Melanger\", height = 5, width = 15, command = melanger)\n",
    "btn.pack()\n",
    "master.mainloop()"
   ]
  },
  {
   "cell_type": "code",
   "execution_count": 95,
   "metadata": {
    "collapsed": false
   },
   "outputs": [
    {
     "name": "stdout",
     "output_type": "stream",
     "text": [
      "0\n"
     ]
    }
   ],
   "source": [
    "from random import sample\n",
    "from tkinter import Tk, Canvas\n",
    "\n",
    "nbTrees = 0\n",
    "\n",
    "def random_forest(p, n, nbTrees):\n",
    "    units=[(line,col) for col in range(n) for line in range(n)]\n",
    "    ntrees=int(n**2*p)\n",
    "    trees=sample(units,ntrees)\n",
    "    states=[[0]*n for _ in range(n)]\n",
    "    for (i,j) in trees:\n",
    "        states[i][j]=1\n",
    "        nbTrees += 1\n",
    "    return states\n",
    "                \n",
    "def fill(cnv, states, unit, nbTrees):\n",
    "    n=len(states)\n",
    "    for line in range(n):\n",
    "        for col in range(n):\n",
    "            A=(unit*col, unit*line)\n",
    "            B=(unit*(col+1), unit*(line+1))\n",
    "            state=states[line][col]\n",
    "            color=[\"ivory\", \"lime green\", \"red\", \"gray75\"][state]\n",
    "            cnv.create_rectangle(A, B, fill=color, outline='')\n",
    "            nbTrees += 1\n",
    "            \n",
    "\n",
    "p=0.8\n",
    "n=50\n",
    "\n",
    "root = Tk()\n",
    "unit=15\n",
    "side=unit*n\n",
    "cnv = Canvas(root, width=unit*n, height=unit*n, background=\"ivory\")\n",
    "cnv.pack(padx=10, pady=10)\n",
    "states=random_forest(p,n, nbTrees)\n",
    "fill(cnv, states, unit, nbTrees)\n",
    "lbl = Label(root, text = str(nbTrees))\n",
    "lbl.pack()\n",
    "root.mainloop()\n",
    "print(nbTrees)\n"
   ]
  },
  {
   "cell_type": "code",
   "execution_count": null,
   "metadata": {
    "collapsed": true
   },
   "outputs": [],
   "source": []
  }
 ],
 "metadata": {
  "kernelspec": {
   "display_name": "Python 3",
   "language": "python",
   "name": "python3"
  },
  "language_info": {
   "codemirror_mode": {
    "name": "ipython",
    "version": 3
   },
   "file_extension": ".py",
   "mimetype": "text/x-python",
   "name": "python",
   "nbconvert_exporter": "python",
   "pygments_lexer": "ipython3",
   "version": "3.5.3"
  }
 },
 "nbformat": 4,
 "nbformat_minor": 2
}
