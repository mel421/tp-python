{
 "cells": [
  {
   "cell_type": "code",
   "execution_count": 28,
   "metadata": {
    "collapsed": false
   },
   "outputs": [],
   "source": [
    "from tkinter import *\n",
    "from math import *\n",
    "\n",
    "def passage(x,y, a, b):\n",
    "    return (a+x, b-y)\n",
    "\n",
    "def produit(n, k, p):\n",
    "    return k*n % p\n",
    "\n",
    "def segment(cnv, k, n, p, base, a, b):\n",
    "    # base : les coordonnées des points du cercle\n",
    "    # on trace le produit prod=k*n\n",
    "    # k -> A\n",
    "    # prod -> B\n",
    "    prod=produit(k, n, p)\n",
    "    xA, yA=base[k]\n",
    "    xB, yB=base[prod]    \n",
    "    A=passage(xA, yA, a, b)\n",
    "    B=passage(xB, yB, a, b)\n",
    "    cnv.create_line(A, B)\n",
    "    \n",
    "def dot(cnv, C, R=6, color='red'):\n",
    "    xC, yC=C\n",
    "    return cnv.create_oval(xC-R,yC-R,xC+R, yC+R, fill=color, outline=color)\n",
    "  \n",
    "def draw_base(cnv, base, a, b):\n",
    "    # Les sommets sur le cercle\n",
    "    p = len(base)\n",
    "    for k in range(p):\n",
    "        x, y=base[k]\n",
    "        X, Y=passage(x, y, a, b)\n",
    "        dot(cnv, (X, Y), R=2, color='black')\n",
    "    \n",
    "def show(cnv, n, p):\n",
    "    cnv.delete(\"all\")\n",
    "    t=2*pi/p\n",
    "    base=[(R*cos(k*t), R*sin(k*t)) for k in range(p)]\n",
    "    draw_base(cnv, base, a, b)\n",
    "\n",
    "    for k in range(p):\n",
    "        segment(cnv, k, n, p, base, a, b)\n",
    "\n",
    "\n",
    "def table(value):\n",
    "    global N\n",
    "    N=int(value)\n",
    "    show(cnv, N, P)\n",
    "\n",
    "def vertex(value):\n",
    "    global P\n",
    "    P=int(value)\n",
    "    show(cnv, N, P)\n",
    "    \n",
    "def draw():\n",
    "    global N, P, cnv, R, a, b\n",
    "    N = 5\n",
    "    P = 200\n",
    "    R = 200\n",
    "    a=b=1.2*R\n",
    "    \n",
    "    \n",
    "    master = Tk()\n",
    "    cnv=Canvas(master, width=2*a, height=2*b, bg='ivory')\n",
    "    cnv.pack(side=\"left\")\n",
    "    table_slider = Scale(master, orient = \"horizontal\", command=table, from_=2, to=50)\n",
    "    table_slider.pack()\n",
    "    vertex_slider = Scale(master, orient = \"horizontal\", command=vertex, from_=2, to=200)\n",
    "    vertex_slider.pack(pady=5)\n",
    "    \n",
    "    \n",
    "    master.mainloop()\n",
    "    \n",
    "draw()"
   ]
  },
  {
   "cell_type": "code",
   "execution_count": 29,
   "metadata": {
    "collapsed": false
   },
   "outputs": [],
   "source": []
  },
  {
   "cell_type": "code",
   "execution_count": null,
   "metadata": {
    "collapsed": true
   },
   "outputs": [],
   "source": []
  }
 ],
 "metadata": {
  "kernelspec": {
   "display_name": "Python 3",
   "language": "python",
   "name": "python3"
  },
  "language_info": {
   "codemirror_mode": {
    "name": "ipython",
    "version": 3
   },
   "file_extension": ".py",
   "mimetype": "text/x-python",
   "name": "python",
   "nbconvert_exporter": "python",
   "pygments_lexer": "ipython3",
   "version": "3.5.3"
  }
 },
 "nbformat": 4,
 "nbformat_minor": 2
}
