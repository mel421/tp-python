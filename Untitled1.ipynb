{
 "cells": [
  {
   "cell_type": "code",
   "execution_count": 82,
   "metadata": {
    "collapsed": false
   },
   "outputs": [
    {
     "name": "stdout",
     "output_type": "stream",
     "text": [
      "0 0 0 0 0 0 0 0 1 1 0 \n",
      "0 1 2 2 1 1 1 1 1 0 0 \n",
      "1 2 3 3 3 2 0 1 1 1 0 \n",
      "2 3 5 5 3 3 2 2 1 0 0 \n",
      "1 3 2 5 3 3 1 0 1 0 0 \n",
      "1 2 1 3 1 2 1 2 2 1 0 \n",
      "1 2 1 2 1 1 0 1 0 1 0 \n",
      "0 2 0 1 0 0 0 2 2 2 0 \n",
      "1 2 1 1 0 0 1 2 1 1 0 \n",
      "1 1 0 0 0 0 2 2 3 1 0 \n"
     ]
    }
   ],
   "source": [
    "from random import randrange\n",
    "\n",
    "mines = []\n",
    "chiffres = ListeNulle(n)\n",
    "cases = []\n",
    "drapeau = []\n",
    "n = 10\n",
    "d = 15\n",
    "compteurMine = 0\n",
    "\n",
    "def voisins(n, i, j):\n",
    "    return [(a,b) for (a, b) in [(i, j+1),(i, j-1), (i-1, j), (i+1,j), (i+1, j+1), (i+1, j-1), (i-1, j+1), (i-1, j-1)] if a in range(n) and b in range(n)]\n",
    "\n",
    "def ListeNulle(n):\n",
    "    L=[]\n",
    "    for i in range(n):\n",
    "        L.append([0])\n",
    "        for j in range(n):\n",
    "            L[i].append(0)\n",
    "    return L\n",
    "\n",
    "def afficher(L):\n",
    "    for i in L:\n",
    "        for y in i:\n",
    "            print(y, end = \" \")\n",
    "        print()\n",
    "        \n",
    "def placerChiffres(L, i, y):\n",
    "    n = len(L)\n",
    "    for k in range(len(voisins(n, i, y))):\n",
    "        L[voisins(n, i, y)[k][0]][voisins(n, i, y)[k][1]] += 1\n",
    "    return L\n",
    "        \n",
    "\n",
    "def placerMines(L, n):\n",
    "    for i in range(0,n):\n",
    "        L.append([])\n",
    "        for y in range(0,n):\n",
    "            k = randrange(0, 100)\n",
    "            if(k >= d):\n",
    "                L[i].append(0)\n",
    "            else:\n",
    "                L[i].append(1)\n",
    "                placerChiffres(chiffres, i, y)\n",
    "    return L\n",
    "            \n",
    "placerMines(mines, n)\n",
    "afficher(chiffres)"
   ]
  },
  {
   "cell_type": "code",
   "execution_count": null,
   "metadata": {
    "collapsed": true
   },
   "outputs": [],
   "source": []
  },
  {
   "cell_type": "code",
   "execution_count": null,
   "metadata": {
    "collapsed": true
   },
   "outputs": [],
   "source": []
  },
  {
   "cell_type": "code",
   "execution_count": null,
   "metadata": {
    "collapsed": true
   },
   "outputs": [],
   "source": []
  }
 ],
 "metadata": {
  "kernelspec": {
   "display_name": "Python 3",
   "language": "python",
   "name": "python3"
  },
  "language_info": {
   "codemirror_mode": {
    "name": "ipython",
    "version": 3
   },
   "file_extension": ".py",
   "mimetype": "text/x-python",
   "name": "python",
   "nbconvert_exporter": "python",
   "pygments_lexer": "ipython3",
   "version": "3.5.3"
  }
 },
 "nbformat": 4,
 "nbformat_minor": 2
}
