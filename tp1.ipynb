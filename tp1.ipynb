{
 "cells": [
  {
   "cell_type": "code",
   "execution_count": 1,
   "metadata": {
    "collapsed": true
   },
   "outputs": [],
   "source": [
    "#exo 1\n",
    "\n",
    "from tkinter import *\n",
    "\n",
    "puissance = Tk()\n",
    "plateau = Canvas(height = 600, width = 700, bg = \"blue\")\n",
    "plateau.pack()\n",
    "for i in range(7):\n",
    "    for j in range(8):\n",
    "        r = 40\n",
    "        x = (1+i)*100 - 50\n",
    "        y = (1+j)*100 - 50\n",
    "        if (i == 4 and j == 4 or i == 6 and j == 4):\n",
    "            plateau.create_oval(x+r, y+r, x-r, y-r, fill = \"red\")\n",
    "        elif(i == 5 and j == 4 or i == 6 and j == 5):\n",
    "            plateau.create_oval(x+r, y+r, x-r, y-r, fill = \"yellow\")\n",
    "        \n",
    "        else:\n",
    "            plateau.create_oval(x+r, y+r, x-r, y-r, fill = \"snow\")\n",
    "puissance.mainloop()"
   ]
  },
  {
   "cell_type": "code",
   "execution_count": 2,
   "metadata": {
    "collapsed": false
   },
   "outputs": [],
   "source": [
    "#exo 2 à refaire\n",
    "\n",
    "from tkinter import *\n",
    "from random import *\n",
    "\n",
    "foret = Tk()\n",
    "arbres = Canvas(height = 500, width = 500, bg = \"snow\")\n",
    "arbres.pack()\n",
    "densite = 65\n",
    "\n",
    "for i in range(101):\n",
    "    for y in range(101):\n",
    "        d = randrange(0, 100)\n",
    "        if d<densite:\n",
    "            arbres.create_rectangle(490-(i*10), 490-(y*10), 500-(i*10), 500-(y*10), fill = \"lime green\", outline = '')\n",
    "\n",
    "foret.mainloop()"
   ]
  },
  {
   "cell_type": "code",
   "execution_count": 3,
   "metadata": {
    "collapsed": false
   },
   "outputs": [
    {
     "name": "stdout",
     "output_type": "stream",
     "text": [
      "[[1, 2, 3, 4], [5, 6, 7, 8], [9, 10, 11, 12], [13, 14, 15]]\n"
     ]
    }
   ],
   "source": [
    "#exo 3 à finir\n",
    "\n",
    "taquin = Tk()\n",
    "plateau = Canvas(height = 400, width = 400, bg = \"snow\")\n",
    "plateau.pack()\n",
    "\n",
    "def listTaquin():\n",
    "    L = []\n",
    "    c = 1\n",
    "    for i in range(4):\n",
    "        L.append([])\n",
    "        for y in range(4):\n",
    "            L[i].append(c)\n",
    "            c +=1\n",
    "            if c == 16:\n",
    "                return L\n",
    "\n",
    "def placerTaquin(L):\n",
    "    for i in range(len(L)):\n",
    "         for y in range(len(L[i])):\n",
    "                plateau.create_rectangle(i*100, y*100, i*100+100, y*100+100, fill = \"light blue\")\n",
    "                plateau.create_text(y*100+50, i*100+50, text = L[i][y])\n",
    "            \n",
    "L = listTaquin()\n",
    "print(L)\n",
    "placerTaquin(L)\n",
    "taquin.mainloop()"
   ]
  },
  {
   "cell_type": "code",
   "execution_count": 28,
   "metadata": {
    "collapsed": false
   },
   "outputs": [],
   "source": [
    "#exo 4\n",
    "\n",
    "jeu = Tk()\n",
    "plateau = Canvas(height = 400, width = 400, bg = \"snow\")\n",
    "plateau.pack()\n",
    "x = 200\n",
    "y = 200\n",
    "r = 10\n",
    "\n",
    "plateau.create_oval(x+190, y+190, x-190, y-190, fill = \"dark orange\", outline = '')\n",
    "plateau.create_oval(x+r, y+r, x-r, y-r, fill = \"grey\", outline = '')\n",
    "\n",
    "def placer(x, y):\n",
    "    for j in range(3):\n",
    "        for k in range(3):\n",
    "            plateau.create_oval(x+r+j*50, y+r+k*50, x-r+j*50, y-r+k*50, fill = \"black\", outline = '')\n",
    "placer(x+50, y-50)\n",
    "placer(x-50, y+50)\n",
    "placer(x-150, y-50)\n",
    "placer(x-50, y-150)\n",
    "\n",
    "jeu.mainloop()"
   ]
  },
  {
   "cell_type": "code",
   "execution_count": null,
   "metadata": {
    "collapsed": true
   },
   "outputs": [],
   "source": [
    "#exo 5\n",
    "\n"
   ]
  }
 ],
 "metadata": {
  "kernelspec": {
   "display_name": "Python 3",
   "language": "python",
   "name": "python3"
  },
  "language_info": {
   "codemirror_mode": {
    "name": "ipython",
    "version": 3
   },
   "file_extension": ".py",
   "mimetype": "text/x-python",
   "name": "python",
   "nbconvert_exporter": "python",
   "pygments_lexer": "ipython3",
   "version": "3.5.3"
  }
 },
 "nbformat": 4,
 "nbformat_minor": 2
}
