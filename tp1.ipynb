{
 "cells": [
  {
   "cell_type": "code",
   "execution_count": 61,
   "metadata": {},
   "outputs": [],
   "source": [
    "#exo 1\n",
    "\n",
    "from tkinter import *\n",
    "\n",
    "puissance = Tk()\n",
    "plateau = Canvas(height = 600, width = 700, bg = \"blue\")\n",
    "plateau.pack()\n",
    "for i in range(7):\n",
    "    for j in range(8):\n",
    "        r = 40\n",
    "        x = (1+i)*100 - 50\n",
    "        y = (1+j)*100 - 50\n",
    "        if (i == 4 and j == 4 or i == 6 and j == 4):\n",
    "            plateau.create_oval(x+r, y+r, x-r, y-r, fill = \"red\")\n",
    "        elif(i == 5 and j == 4 or i == 6 and j == 5):\n",
    "            plateau.create_oval(x+r, y+r, x-r, y-r, fill = \"yellow\")\n",
    "        \n",
    "        else:\n",
    "            plateau.create_oval(x+r, y+r, x-r, y-r, fill = \"snow\")\n",
    "puissance.mainloop()"
   ]
  },
  {
   "cell_type": "code",
   "execution_count": 60,
   "metadata": {},
   "outputs": [],
   "source": [
    "#exo 2\n",
    "\n",
    "from tkinter import *\n",
    "\n",
    "foret = Tk()\n",
    "arbres = Canvas(height = 200, width = 200, bg = \"snow\")\n",
    "arbres.pack()\n",
    "foret.mainloop()"
   ]
  },
  {
   "cell_type": "code",
   "execution_count": null,
   "metadata": {},
   "outputs": [],
   "source": []
  }
 ],
 "metadata": {
  "kernelspec": {
   "display_name": "Python 3",
   "language": "python",
   "name": "python3"
  },
  "language_info": {
   "codemirror_mode": {
    "name": "ipython",
    "version": 3
   },
   "file_extension": ".py",
   "mimetype": "text/x-python",
   "name": "python",
   "nbconvert_exporter": "python",
   "pygments_lexer": "ipython3",
   "version": "3.6.4"
  }
 },
 "nbformat": 4,
 "nbformat_minor": 2
}
